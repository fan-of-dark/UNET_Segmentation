{
  "nbformat": 4,
  "nbformat_minor": 0,
  "metadata": {
    "colab": {
      "name": "UNET.ipynb",
      "provenance": [],
      "collapsed_sections": [],
      "authorship_tag": "ABX9TyN+KSlI1itEyNFMoZ1wJ5ih",
      "include_colab_link": true
    },
    "kernelspec": {
      "name": "python3",
      "display_name": "Python 3"
    },
    "language_info": {
      "name": "python"
    },
    "accelerator": "GPU"
  },
  "cells": [
    {
      "cell_type": "markdown",
      "metadata": {
        "id": "view-in-github",
        "colab_type": "text"
      },
      "source": [
        "<a href=\"https://colab.research.google.com/github/fan-of-dark/UNET_Segmentation/blob/main/UNET.ipynb\" target=\"_parent\"><img src=\"https://colab.research.google.com/assets/colab-badge.svg\" alt=\"Open In Colab\"/></a>"
      ]
    },
    {
      "cell_type": "code",
      "metadata": {
        "colab": {
          "base_uri": "https://localhost:8080/"
        },
        "id": "FEkFZ8kdqruv",
        "outputId": "f4e7c60f-23cc-4017-b2fc-ed3d8e02654b"
      },
      "source": [
        "from google.colab import drive\n",
        "drive.mount(\"/content/drive\", force_remount = True)"
      ],
      "execution_count": null,
      "outputs": [
        {
          "output_type": "stream",
          "text": [
            "Mounted at /content/drive\n"
          ],
          "name": "stdout"
        }
      ]
    },
    {
      "cell_type": "code",
      "metadata": {
        "colab": {
          "base_uri": "https://localhost:8080/"
        },
        "id": "YFtsCfatreFY",
        "outputId": "b5514c4d-4a55-46c5-9b62-04606578339a"
      },
      "source": [
        "!ls"
      ],
      "execution_count": null,
      "outputs": [
        {
          "output_type": "stream",
          "text": [
            "drive  sample_data\n"
          ],
          "name": "stdout"
        }
      ]
    },
    {
      "cell_type": "code",
      "metadata": {
        "colab": {
          "base_uri": "https://localhost:8080/"
        },
        "id": "ACpGvqKFyZHF",
        "outputId": "4e205ae4-aa3b-4476-cc2c-48d8407d24c5"
      },
      "source": [
        "!pip install keras"
      ],
      "execution_count": null,
      "outputs": [
        {
          "output_type": "stream",
          "text": [
            "Requirement already satisfied: keras in /usr/local/lib/python3.7/dist-packages (2.4.3)\n",
            "Requirement already satisfied: pyyaml in /usr/local/lib/python3.7/dist-packages (from keras) (3.13)\n",
            "Requirement already satisfied: h5py in /usr/local/lib/python3.7/dist-packages (from keras) (3.1.0)\n",
            "Requirement already satisfied: numpy>=1.9.1 in /usr/local/lib/python3.7/dist-packages (from keras) (1.19.5)\n",
            "Requirement already satisfied: scipy>=0.14 in /usr/local/lib/python3.7/dist-packages (from keras) (1.4.1)\n",
            "Requirement already satisfied: cached-property; python_version < \"3.8\" in /usr/local/lib/python3.7/dist-packages (from h5py->keras) (1.5.2)\n"
          ],
          "name": "stdout"
        }
      ]
    },
    {
      "cell_type": "code",
      "metadata": {
        "colab": {
          "base_uri": "https://localhost:8080/",
          "height": 35
        },
        "id": "fOBgnAsgzEQG",
        "outputId": "cc7a83e8-fd14-414b-b82b-2bb1e8d58bf7"
      },
      "source": [
        "import keras\n",
        "keras.__version__"
      ],
      "execution_count": null,
      "outputs": [
        {
          "output_type": "execute_result",
          "data": {
            "application/vnd.google.colaboratory.intrinsic+json": {
              "type": "string"
            },
            "text/plain": [
              "'2.5.0'"
            ]
          },
          "metadata": {
            "tags": []
          },
          "execution_count": 4
        }
      ]
    },
    {
      "cell_type": "markdown",
      "metadata": {
        "id": "2F1PCcC6uvNb"
      },
      "source": [
        "#0. Importing Libraries"
      ]
    },
    {
      "cell_type": "code",
      "metadata": {
        "id": "FEiNLSqwxa7s"
      },
      "source": [
        "import os\n",
        "import numpy as np\n",
        "import cv2 as cv\n",
        "import matplotlib.pyplot as plt\n",
        "plt.style.use(\"dark_background\")"
      ],
      "execution_count": null,
      "outputs": []
    },
    {
      "cell_type": "code",
      "metadata": {
        "id": "hfMYwmCmu2L1"
      },
      "source": [
        "from keras.models import Model, Sequential,load_model\n",
        "from keras.layers import Conv2D, MaxPool2D, Conv2DTranspose\n",
        "from keras.layers import Dropout, Lambda\n",
        "from keras.layers.merge import concatenate\n",
        "from keras.layers import Input, BatchNormalization, Activation\n",
        "from keras.regularizers import l2\n",
        "from keras.callbacks import ModelCheckpoint, EarlyStopping\n",
        "from keras.optimizers import Adam\n",
        "\n",
        "from keras import backend as K\n",
        "import tensorflow as tf\n",
        "\n",
        "import warnings\n",
        "import random\n",
        "warnings.filterwarnings('ignore', category=UserWarning, module='skimage')\n",
        "seed = 42\n",
        "random.seed = seed\n",
        "np.random.seed = seed"
      ],
      "execution_count": null,
      "outputs": []
    },
    {
      "cell_type": "code",
      "metadata": {
        "id": "2QVJX_d5x9WU"
      },
      "source": [
        "from keras.preprocessing.image import ImageDataGenerator"
      ],
      "execution_count": null,
      "outputs": []
    },
    {
      "cell_type": "markdown",
      "metadata": {
        "id": "q_dZ1BaasZYT"
      },
      "source": [
        "#1. Getting Data "
      ]
    },
    {
      "cell_type": "markdown",
      "metadata": {
        "id": "tTFHlPrbVWXe"
      },
      "source": [
        "[Using Kaggle API with colab](https://medium.com/@yvettewu.dw/tutorial-kaggle-api-google-colaboratory-1a054a382de0#:~:text=Download%20Data%3A%20Go%20to%20the%20Kaggle%20competition%20page,API%20button%2C%20it%20will%20copy%20the%20command%20automatically.)"
      ]
    },
    {
      "cell_type": "code",
      "metadata": {
        "id": "wwF-Hhx1rfsM"
      },
      "source": [
        "!pip install -q kaggle"
      ],
      "execution_count": null,
      "outputs": []
    },
    {
      "cell_type": "code",
      "metadata": {
        "id": "BYVGTzlZTIjg"
      },
      "source": [
        "!mkdir -p ~/.kaggle\n",
        "!cp kaggle.json ~/.kaggle"
      ],
      "execution_count": null,
      "outputs": []
    },
    {
      "cell_type": "code",
      "metadata": {
        "id": "BQIRQIANTbeR"
      },
      "source": [
        "!ls ~/.kaggle"
      ],
      "execution_count": null,
      "outputs": []
    },
    {
      "cell_type": "code",
      "metadata": {
        "id": "v_05bUapUZfM"
      },
      "source": [
        "token = {\"username\":\"saivikassingamsetty\",\"key\":\"0c6fd21a20e9c4b8210ec1a1a0e3d762\"}"
      ],
      "execution_count": null,
      "outputs": []
    },
    {
      "cell_type": "code",
      "metadata": {
        "id": "jgFG0oFXVRl6"
      },
      "source": [
        "import json\n",
        "with open(\"/root/.kaggle/kaggle.json\", \"w\") as file:\n",
        "  #encodes python objects to json objects\n",
        "  json.dump(token,file)"
      ],
      "execution_count": null,
      "outputs": []
    },
    {
      "cell_type": "code",
      "metadata": {
        "id": "5EzghWTzXDn2"
      },
      "source": [
        "#chmod changes the permissions of each given file according to mode, where mode describes the permissions to modify.\n",
        "!chmod 600 /root/.kaggle/kaggle.json"
      ],
      "execution_count": null,
      "outputs": []
    },
    {
      "cell_type": "code",
      "metadata": {
        "colab": {
          "base_uri": "https://localhost:8080/"
        },
        "id": "12Unt-ONRlUc",
        "outputId": "64188bc4-f5fa-4c5d-df27-8016b8cf55fe"
      },
      "source": [
        "!kaggle competitions download -c data-science-bowl-2018"
      ],
      "execution_count": null,
      "outputs": [
        {
          "output_type": "stream",
          "text": [
            "Warning: Looks like you're using an outdated API Version, please consider updating (server 1.5.12 / client 1.5.4)\n",
            "Downloading stage1_test.zip to /content\n",
            "  0% 0.00/9.10M [00:00<?, ?B/s]\n",
            "100% 9.10M/9.10M [00:00<00:00, 84.3MB/s]\n",
            "Downloading stage1_sample_submission.csv.zip to /content\n",
            "  0% 0.00/2.62k [00:00<?, ?B/s]\n",
            "100% 2.62k/2.62k [00:00<00:00, 2.40MB/s]\n",
            "Downloading stage2_test_final.zip to /content\n",
            " 94% 259M/276M [00:02<00:00, 137MB/s]\n",
            "100% 276M/276M [00:02<00:00, 121MB/s]\n",
            "Downloading stage1_train_labels.csv.zip to /content\n",
            "  0% 0.00/2.67M [00:00<?, ?B/s]\n",
            "100% 2.67M/2.67M [00:00<00:00, 172MB/s]\n",
            "Downloading stage2_sample_submission_final.csv.zip to /content\n",
            "  0% 0.00/112k [00:00<?, ?B/s]\n",
            "100% 112k/112k [00:00<00:00, 115MB/s]\n",
            "Downloading stage1_solution.csv.zip to /content\n",
            "  0% 0.00/386k [00:00<?, ?B/s]\n",
            "100% 386k/386k [00:00<00:00, 127MB/s]\n",
            "Downloading stage1_train.zip to /content\n",
            " 80% 63.0M/79.1M [00:00<00:00, 116MB/s] \n",
            "100% 79.1M/79.1M [00:00<00:00, 197MB/s]\n"
          ],
          "name": "stdout"
        }
      ]
    },
    {
      "cell_type": "code",
      "metadata": {
        "colab": {
          "base_uri": "https://localhost:8080/"
        },
        "id": "0iMhxUUOYLtC",
        "outputId": "f609bbee-d8a7-454d-8597-3fe3690be4ea"
      },
      "source": [
        "!ls"
      ],
      "execution_count": null,
      "outputs": [
        {
          "output_type": "stream",
          "text": [
            "drive\t\t\t\t  stage1_train_labels.csv.zip\n",
            "sample_data\t\t\t  stage1_train.zip\n",
            "stage1_sample_submission.csv.zip  stage2_sample_submission_final.csv.zip\n",
            "stage1_solution.csv.zip\t\t  stage2_test_final.zip\n",
            "stage1_test.zip\n"
          ],
          "name": "stdout"
        }
      ]
    },
    {
      "cell_type": "code",
      "metadata": {
        "id": "XpzYRQSXtiWI"
      },
      "source": [
        "from zipfile import ZipFile\n",
        "def unzip_to_folder(fname,target):\n",
        "  with ZipFile(fname, \"r\") as f:\n",
        "    f.extractall(target)"
      ],
      "execution_count": null,
      "outputs": []
    },
    {
      "cell_type": "code",
      "metadata": {
        "id": "mMJYSMRMt1r8"
      },
      "source": [
        "unzip_to_folder(\"/content/stage1_train.zip\", \"/content/dataset/train\")\n",
        "unzip_to_folder(\"/content/stage1_test.zip\", \"/content/dataset/test\")\n",
        "unzip_to_folder(\"/content/stage1_train_labels.csv.zip\", \"/content/dataset/train_labels\")"
      ],
      "execution_count": null,
      "outputs": []
    },
    {
      "cell_type": "markdown",
      "metadata": {
        "id": "WxDm6CA4smfC"
      },
      "source": [
        "#2. Data understanding"
      ]
    },
    {
      "cell_type": "code",
      "metadata": {
        "id": "EEQpne0EwB06"
      },
      "source": [
        "train_path = \"/content/dataset/train/\"\n",
        "test_path = \"/content/dataset/test/\"\n",
        "train_labels_path = \"/content/dataset/train_labels\""
      ],
      "execution_count": null,
      "outputs": []
    },
    {
      "cell_type": "code",
      "metadata": {
        "id": "hvJ3PyZ6ssb4",
        "colab": {
          "base_uri": "https://localhost:8080/"
        },
        "outputId": "7182e990-912d-47d9-f6ae-0c9f0cb29f59"
      },
      "source": [
        "print(len(os.listdir(train_path)))\n",
        "print(len(os.listdir(test_path)))"
      ],
      "execution_count": null,
      "outputs": [
        {
          "output_type": "stream",
          "text": [
            "670\n",
            "65\n"
          ],
          "name": "stdout"
        }
      ]
    },
    {
      "cell_type": "code",
      "metadata": {
        "id": "fk_hz63A0h17"
      },
      "source": [
        "#getting train and test image ids\n",
        "train_ids = next(os.walk(train_path))[1]\n",
        "test_ids = next(os.walk(test_path))[1]"
      ],
      "execution_count": null,
      "outputs": []
    },
    {
      "cell_type": "code",
      "metadata": {
        "colab": {
          "base_uri": "https://localhost:8080/"
        },
        "id": "Fb5qb6wr0MDK",
        "outputId": "be6cca12-cbf5-42dc-ce0f-1a05e03ab446"
      },
      "source": [
        "len(train_ids)"
      ],
      "execution_count": null,
      "outputs": [
        {
          "output_type": "execute_result",
          "data": {
            "text/plain": [
              "670"
            ]
          },
          "metadata": {
            "tags": []
          },
          "execution_count": 21
        }
      ]
    },
    {
      "cell_type": "code",
      "metadata": {
        "id": "IZUx02uYxKKR"
      },
      "source": [
        "# Setting some parameters\n",
        "IMG_WIDTH = 128\n",
        "IMG_HEIGHT = 128\n",
        "IMG_CHANNELS = 3"
      ],
      "execution_count": null,
      "outputs": []
    },
    {
      "cell_type": "markdown",
      "metadata": {
        "id": "L4wQSCCastJd"
      },
      "source": [
        "#3. Data Preprocessing"
      ]
    },
    {
      "cell_type": "code",
      "metadata": {
        "id": "HNXREEACsvXu"
      },
      "source": [
        "#initializing 2 datas for training\n",
        "#image data\n",
        "X_train = np.zeros((len(train_ids), IMG_HEIGHT, IMG_WIDTH, IMG_CHANNELS), dtype = np.uint8)\n",
        "#target or mask data\n",
        "Y_train = np.zeros((len(train_ids), IMG_HEIGHT, IMG_WIDTH, 1), dtype = np.bool)"
      ],
      "execution_count": null,
      "outputs": []
    },
    {
      "cell_type": "code",
      "metadata": {
        "id": "U-0BRUHyMrwG"
      },
      "source": [
        "#Tqdm is a Python library used to display smart progress bars that show the progress of your Python code execution.\n",
        "#used to see progress of ML model training on large datasets\n",
        "from tqdm import tqdm"
      ],
      "execution_count": null,
      "outputs": []
    },
    {
      "cell_type": "code",
      "metadata": {
        "id": "R4xfriS5Tmzg"
      },
      "source": [
        "from skimage.io import imread, imshow\n",
        "from skimage.transform import resize\n",
        "from skimage.morphology import label"
      ],
      "execution_count": null,
      "outputs": []
    },
    {
      "cell_type": "code",
      "metadata": {
        "colab": {
          "base_uri": "https://localhost:8080/"
        },
        "id": "oLNIgQTQNhBY",
        "outputId": "9f84d99d-a71e-4be1-8c15-8b10d159cdc7"
      },
      "source": [
        "#works like a conventional iterator but dynamically update the progress bar.\n",
        "for n, id_ in tqdm(enumerate(train_ids), total = len(train_ids)):\n",
        "  \n",
        "  file_path = train_path + id_\n",
        "\n",
        "  #IMAGE file\n",
        "  img = imread(file_path + \"/images/\" + id_ + \".png\")[:,:,:3] #as image channels are 3\n",
        "  img = resize(img, (IMG_HEIGHT, IMG_WIDTH), mode = \"constant\", preserve_range = True)\n",
        "  X_train[n] = img\n",
        "\n",
        "  #MASK file\n",
        "  mask = np.zeros((IMG_HEIGHT, IMG_WIDTH, 1), dtype = np.bool)\n",
        "  #os.walk gives a generator object, as first 2 are paths, just need to traverse along the masks\n",
        "  for maskfile in next(os.walk(file_path + \"/masks/\"))[2]:\n",
        "    mask_  = imread(file_path + \"/masks/\" + maskfile)\n",
        "    #creates the mask layers like a pile.\n",
        "    mask_ = np.expand_dims(a = resize(mask_, (IMG_HEIGHT, IMG_WIDTH),\n",
        "                                          mode = \"constant\", preserve_range= True),\n",
        "                           axis = -1)\n",
        "    #final mask layer is one np array containing all the masks, as they are no overlapping masks.\n",
        "    mask = np.maximum(mask, mask_)\n",
        "    Y_train[n] = mask"
      ],
      "execution_count": null,
      "outputs": [
        {
          "output_type": "stream",
          "text": [
            "100%|██████████| 670/670 [05:56<00:00,  1.88it/s]\n"
          ],
          "name": "stderr"
        }
      ]
    },
    {
      "cell_type": "code",
      "metadata": {
        "colab": {
          "base_uri": "https://localhost:8080/"
        },
        "id": "mvkKL6-hUaE7",
        "outputId": "f80b900f-0e60-4b83-e5d6-56c2767d6022"
      },
      "source": [
        "#same for the test images too\n",
        "\n",
        "X_test = np.zeros((len(test_ids), IMG_HEIGHT, IMG_WIDTH, IMG_CHANNELS), dtype = np.uint8)\n",
        "sizes = []\n",
        "\n",
        "for n,id_ in tqdm(enumerate(test_ids), total = len(test_ids)):\n",
        "  file_path = test_path + id_\n",
        "  img = imread(file_path + \"/images/\"+ id_ + \".png\")[:,:,:IMG_CHANNELS]\n",
        "  sizes.append((img.shape[0], img.shape[1]))\n",
        "  #interpolation resize\n",
        "  img = resize(img, (IMG_HEIGHT, IMG_WIDTH), mode = \"constant\", preserve_range= True)\n",
        "  X_test[n] = img"
      ],
      "execution_count": null,
      "outputs": [
        {
          "output_type": "stream",
          "text": [
            "100%|██████████| 65/65 [00:01<00:00, 36.91it/s]\n"
          ],
          "name": "stderr"
        }
      ]
    },
    {
      "cell_type": "code",
      "metadata": {
        "colab": {
          "base_uri": "https://localhost:8080/"
        },
        "id": "p0_5BIRCWmZl",
        "outputId": "1a0335a8-7194-46b4-fca9-de1a078cf2ad"
      },
      "source": [
        "X_train.shape"
      ],
      "execution_count": null,
      "outputs": [
        {
          "output_type": "execute_result",
          "data": {
            "text/plain": [
              "(670, 128, 128, 3)"
            ]
          },
          "metadata": {
            "tags": []
          },
          "execution_count": 29
        }
      ]
    },
    {
      "cell_type": "code",
      "metadata": {
        "colab": {
          "base_uri": "https://localhost:8080/"
        },
        "id": "HyWAYr0_WqpO",
        "outputId": "86e04669-015e-443d-c260-b9d4ba71a56c"
      },
      "source": [
        "Y_train.shape"
      ],
      "execution_count": null,
      "outputs": [
        {
          "output_type": "execute_result",
          "data": {
            "text/plain": [
              "(670, 128, 128, 1)"
            ]
          },
          "metadata": {
            "tags": []
          },
          "execution_count": 30
        }
      ]
    },
    {
      "cell_type": "code",
      "metadata": {
        "colab": {
          "base_uri": "https://localhost:8080/"
        },
        "id": "cPkMAdAaWwwA",
        "outputId": "2cd05953-901d-4ca3-cc17-fb79853c67b8"
      },
      "source": [
        "X_test.shape"
      ],
      "execution_count": null,
      "outputs": [
        {
          "output_type": "execute_result",
          "data": {
            "text/plain": [
              "(65, 128, 128, 3)"
            ]
          },
          "metadata": {
            "tags": []
          },
          "execution_count": 31
        }
      ]
    },
    {
      "cell_type": "code",
      "metadata": {
        "colab": {
          "base_uri": "https://localhost:8080/",
          "height": 297
        },
        "id": "5VTMgMEAW5Ld",
        "outputId": "d488bfde-c9bd-40db-9574-0511f0d91010"
      },
      "source": [
        "#checking training data images\n",
        "i = np.random.randint(0, len(train_ids))\n",
        "imshow(X_train[i])\n",
        "plt.show()"
      ],
      "execution_count": null,
      "outputs": [
        {
          "output_type": "display_data",
          "data": {
            "image/png": "[encoded data removed]",
            "text/plain": [
              "<Figure size 432x288 with 1 Axes>"
            ]
          },
          "metadata": {
            "tags": []
          }
        }
      ]
    },
    {
      "cell_type": "code",
      "metadata": {
        "colab": {
          "base_uri": "https://localhost:8080/",
          "height": 297
        },
        "id": "DQutkDHnXNNR",
        "outputId": "de55bbdd-1358-4fc1-af1a-ab7e784c97e4"
      },
      "source": [
        "#checking training data masks\n",
        "imshow(np.squeeze(Y_train[i]))\n",
        "plt.show()"
      ],
      "execution_count": null,
      "outputs": [
        {
          "output_type": "display_data",
          "data": {
            "image/png": "[encoded data removed]",
            "text/plain": [
              "<Figure size 432x288 with 1 Axes>"
            ]
          },
          "metadata": {
            "tags": []
          }
        }
      ]
    },
    {
      "cell_type": "markdown",
      "metadata": {
        "id": "4l0UPAaqtft2"
      },
      "source": [
        "#4. Building UNET\n"
      ]
    },
    {
      "cell_type": "code",
      "metadata": {
        "id": "r4XCBPQeakQZ"
      },
      "source": [
        "def DoubleConv(inp, filters, dropout):\n",
        "  # A 3X3 2D conv-dropout-conv trio\n",
        "  layer1 = Conv2D(filters = filters, kernel_size = (3,3), activation= \"elu\", kernel_initializer= \"he_normal\", padding = \"same\")(inp)\n",
        "  layer2 = Dropout(rate = dropout)(layer1)\n",
        "  out = Conv2D(filters= filters, kernel_size= (3,3), activation= \"elu\", kernel_initializer= \"he_normal\", padding = \"same\")(layer2)\n",
        "  return out"
      ],
      "execution_count": null,
      "outputs": []
    },
    {
      "cell_type": "code",
      "metadata": {
        "id": "Q8-0jF-ytl_5"
      },
      "source": [
        "inputs = Input((IMG_HEIGHT, IMG_WIDTH, IMG_CHANNELS))\n",
        "s = Lambda(lambda x: x /255)(inputs)\n",
        "\n",
        "#ENCODER\n",
        "c1 = DoubleConv(s, 16, 0.1)\n",
        "\n",
        "p1 = MaxPool2D((2,2))(c1)\n",
        "\n",
        "c2 = DoubleConv(p1, 32, 0.1)\n",
        "p2 = MaxPool2D((2,2))(c2)\n",
        "\n",
        "c3 = DoubleConv(p2, 64, 0.1)\n",
        "p3 = MaxPool2D((2,2))(c3)\n",
        "\n",
        "c4 = DoubleConv(p3, 128, 0.1)\n",
        "p4 = MaxPool2D((2,2))(c4)\n",
        "\n",
        "c5 = DoubleConv(p4, 256, 0.1)\n",
        "\n",
        "#DECODER\n",
        "u6 = Conv2DTranspose(128, (2,2), strides = (2,2), padding = \"same\")(c5)\n",
        "u6 = concatenate([u6, c4])\n",
        "c6 = DoubleConv(u6, 128, 0.2)\n",
        "\n",
        "u7 = Conv2DTranspose(64, (2,2), strides = (2,2), padding = \"same\")(c6)\n",
        "u7 = concatenate([u7, c3])\n",
        "c7 = DoubleConv(u7, 64, 0.2)\n",
        "\n",
        "u8 = Conv2DTranspose(32, (2,2), strides = (2,2), padding = \"same\")(c7)\n",
        "u8 = concatenate([u8, c2])\n",
        "c8 = DoubleConv(u8, 32, 0.1)\n",
        "\n",
        "u9 = Conv2DTranspose(16, (2,2), strides = (2,2), padding = \"same\")(c8)\n",
        "u9 = concatenate([u9, c1])\n",
        "c9 = DoubleConv(u9, 16, 0.1)\n",
        "\n",
        "#final layer\n",
        "outputs = Conv2D(1, (1,1), activation= \"sigmoid\")(c9)\n",
        "\n",
        "#model\n",
        "model = Model(inputs = [inputs], outputs = [outputs])"
      ],
      "execution_count": null,
      "outputs": []
    },
    {
      "cell_type": "markdown",
      "metadata": {
        "id": "KuV8g6nltmnl"
      },
      "source": [
        "#5. Parameters"
      ]
    },
    {
      "cell_type": "code",
      "metadata": {
        "id": "UkFMezUHEFsL"
      },
      "source": [
        "from keras.metrics import MeanIoU"
      ],
      "execution_count": null,
      "outputs": []
    },
    {
      "cell_type": "code",
      "metadata": {
        "id": "AdMG8YsHtsm2"
      },
      "source": [
        "model.compile(optimizer= \"adam\", loss='binary_crossentropy', metrics=[MeanIoU(num_classes= 2)])"
      ],
      "execution_count": null,
      "outputs": []
    },
    {
      "cell_type": "code",
      "metadata": {
        "colab": {
          "base_uri": "https://localhost:8080/"
        },
        "id": "BlWypyaDolNX",
        "outputId": "b89bee0d-ef08-4b7a-d061-6656230dbd0e"
      },
      "source": [
        "model.summary()"
      ],
      "execution_count": null,
      "outputs": [
        {
          "output_type": "stream",
          "text": [
            "Model: \"model\"\n",
            "__________________________________________________________________________________________________\n",
            "Layer (type)                    Output Shape         Param #     Connected to                     \n",
            "==================================================================================================\n",
            "input_1 (InputLayer)            [(None, 128, 128, 3) 0                                            \n",
            "__________________________________________________________________________________________________\n",
            "lambda (Lambda)                 (None, 128, 128, 3)  0           input_1[0][0]                    \n",
            "__________________________________________________________________________________________________\n",
            "conv2d (Conv2D)                 (None, 128, 128, 16) 448         lambda[0][0]                     \n",
            "__________________________________________________________________________________________________\n",
            "dropout (Dropout)               (None, 128, 128, 16) 0           conv2d[0][0]                     \n",
            "__________________________________________________________________________________________________\n",
            "conv2d_1 (Conv2D)               (None, 128, 128, 16) 2320        dropout[0][0]                    \n",
            "__________________________________________________________________________________________________\n",
            "max_pooling2d (MaxPooling2D)    (None, 64, 64, 16)   0           conv2d_1[0][0]                   \n",
            "__________________________________________________________________________________________________\n",
            "conv2d_2 (Conv2D)               (None, 64, 64, 32)   4640        max_pooling2d[0][0]              \n",
            "__________________________________________________________________________________________________\n",
            "dropout_1 (Dropout)             (None, 64, 64, 32)   0           conv2d_2[0][0]                   \n",
            "__________________________________________________________________________________________________\n",
            "conv2d_3 (Conv2D)               (None, 64, 64, 32)   9248        dropout_1[0][0]                  \n",
            "__________________________________________________________________________________________________\n",
            "max_pooling2d_1 (MaxPooling2D)  (None, 32, 32, 32)   0           conv2d_3[0][0]                   \n",
            "__________________________________________________________________________________________________\n",
            "conv2d_4 (Conv2D)               (None, 32, 32, 64)   18496       max_pooling2d_1[0][0]            \n",
            "__________________________________________________________________________________________________\n",
            "dropout_2 (Dropout)             (None, 32, 32, 64)   0           conv2d_4[0][0]                   \n",
            "__________________________________________________________________________________________________\n",
            "conv2d_5 (Conv2D)               (None, 32, 32, 64)   36928       dropout_2[0][0]                  \n",
            "__________________________________________________________________________________________________\n",
            "max_pooling2d_2 (MaxPooling2D)  (None, 16, 16, 64)   0           conv2d_5[0][0]                   \n",
            "__________________________________________________________________________________________________\n",
            "conv2d_6 (Conv2D)               (None, 16, 16, 128)  73856       max_pooling2d_2[0][0]            \n",
            "__________________________________________________________________________________________________\n",
            "dropout_3 (Dropout)             (None, 16, 16, 128)  0           conv2d_6[0][0]                   \n",
            "__________________________________________________________________________________________________\n",
            "conv2d_7 (Conv2D)               (None, 16, 16, 128)  147584      dropout_3[0][0]                  \n",
            "__________________________________________________________________________________________________\n",
            "max_pooling2d_3 (MaxPooling2D)  (None, 8, 8, 128)    0           conv2d_7[0][0]                   \n",
            "__________________________________________________________________________________________________\n",
            "conv2d_8 (Conv2D)               (None, 8, 8, 256)    295168      max_pooling2d_3[0][0]            \n",
            "__________________________________________________________________________________________________\n",
            "dropout_4 (Dropout)             (None, 8, 8, 256)    0           conv2d_8[0][0]                   \n",
            "__________________________________________________________________________________________________\n",
            "conv2d_9 (Conv2D)               (None, 8, 8, 256)    590080      dropout_4[0][0]                  \n",
            "__________________________________________________________________________________________________\n",
            "conv2d_transpose (Conv2DTranspo (None, 16, 16, 128)  131200      conv2d_9[0][0]                   \n",
            "__________________________________________________________________________________________________\n",
            "concatenate (Concatenate)       (None, 16, 16, 256)  0           conv2d_transpose[0][0]           \n",
            "                                                                 conv2d_7[0][0]                   \n",
            "__________________________________________________________________________________________________\n",
            "conv2d_10 (Conv2D)              (None, 16, 16, 128)  295040      concatenate[0][0]                \n",
            "__________________________________________________________________________________________________\n",
            "dropout_5 (Dropout)             (None, 16, 16, 128)  0           conv2d_10[0][0]                  \n",
            "__________________________________________________________________________________________________\n",
            "conv2d_11 (Conv2D)              (None, 16, 16, 128)  147584      dropout_5[0][0]                  \n",
            "__________________________________________________________________________________________________\n",
            "conv2d_transpose_1 (Conv2DTrans (None, 32, 32, 64)   32832       conv2d_11[0][0]                  \n",
            "__________________________________________________________________________________________________\n",
            "concatenate_1 (Concatenate)     (None, 32, 32, 128)  0           conv2d_transpose_1[0][0]         \n",
            "                                                                 conv2d_5[0][0]                   \n",
            "__________________________________________________________________________________________________\n",
            "conv2d_12 (Conv2D)              (None, 32, 32, 64)   73792       concatenate_1[0][0]              \n",
            "__________________________________________________________________________________________________\n",
            "dropout_6 (Dropout)             (None, 32, 32, 64)   0           conv2d_12[0][0]                  \n",
            "__________________________________________________________________________________________________\n",
            "conv2d_13 (Conv2D)              (None, 32, 32, 64)   36928       dropout_6[0][0]                  \n",
            "__________________________________________________________________________________________________\n",
            "conv2d_transpose_2 (Conv2DTrans (None, 64, 64, 32)   8224        conv2d_13[0][0]                  \n",
            "__________________________________________________________________________________________________\n",
            "concatenate_2 (Concatenate)     (None, 64, 64, 64)   0           conv2d_transpose_2[0][0]         \n",
            "                                                                 conv2d_3[0][0]                   \n",
            "__________________________________________________________________________________________________\n",
            "conv2d_14 (Conv2D)              (None, 64, 64, 32)   18464       concatenate_2[0][0]              \n",
            "__________________________________________________________________________________________________\n",
            "dropout_7 (Dropout)             (None, 64, 64, 32)   0           conv2d_14[0][0]                  \n",
            "__________________________________________________________________________________________________\n",
            "conv2d_15 (Conv2D)              (None, 64, 64, 32)   9248        dropout_7[0][0]                  \n",
            "__________________________________________________________________________________________________\n",
            "conv2d_transpose_3 (Conv2DTrans (None, 128, 128, 16) 2064        conv2d_15[0][0]                  \n",
            "__________________________________________________________________________________________________\n",
            "concatenate_3 (Concatenate)     (None, 128, 128, 32) 0           conv2d_transpose_3[0][0]         \n",
            "                                                                 conv2d_1[0][0]                   \n",
            "__________________________________________________________________________________________________\n",
            "conv2d_16 (Conv2D)              (None, 128, 128, 16) 4624        concatenate_3[0][0]              \n",
            "__________________________________________________________________________________________________\n",
            "dropout_8 (Dropout)             (None, 128, 128, 16) 0           conv2d_16[0][0]                  \n",
            "__________________________________________________________________________________________________\n",
            "conv2d_17 (Conv2D)              (None, 128, 128, 16) 2320        dropout_8[0][0]                  \n",
            "__________________________________________________________________________________________________\n",
            "conv2d_18 (Conv2D)              (None, 128, 128, 1)  17          conv2d_17[0][0]                  \n",
            "==================================================================================================\n",
            "Total params: 1,941,105\n",
            "Trainable params: 1,941,105\n",
            "Non-trainable params: 0\n",
            "__________________________________________________________________________________________________\n"
          ],
          "name": "stdout"
        }
      ]
    },
    {
      "cell_type": "markdown",
      "metadata": {
        "id": "OZ462fYYttcA"
      },
      "source": [
        "#6. Training UNET"
      ]
    },
    {
      "cell_type": "code",
      "metadata": {
        "colab": {
          "base_uri": "https://localhost:8080/"
        },
        "id": "vO8o9fiSpeDs",
        "outputId": "6b0fea22-3f02-418b-a25d-1263d220f15f"
      },
      "source": [
        "history = model.fit(X_train, Y_train, validation_split= 0.11, batch_size= 16, epochs = 25)"
      ],
      "execution_count": null,
      "outputs": [
        {
          "output_type": "stream",
          "text": [
            "Epoch 1/25\n",
            "38/38 [==============================] - 53s 129ms/step - loss: 0.5220 - mean_io_u: 0.3996 - val_loss: 0.2526 - val_mean_io_u: 0.3937\n",
            "Epoch 2/25\n",
            "38/38 [==============================] - 2s 42ms/step - loss: 0.1822 - mean_io_u: 0.3966 - val_loss: 0.2016 - val_mean_io_u: 0.3937\n",
            "Epoch 3/25\n",
            "38/38 [==============================] - 2s 42ms/step - loss: 0.1334 - mean_io_u: 0.4017 - val_loss: 0.1413 - val_mean_io_u: 0.3937\n",
            "Epoch 4/25\n",
            "38/38 [==============================] - 2s 42ms/step - loss: 0.1429 - mean_io_u: 0.3987 - val_loss: 0.1624 - val_mean_io_u: 0.3937\n",
            "Epoch 5/25\n",
            "38/38 [==============================] - 2s 42ms/step - loss: 0.1148 - mean_io_u: 0.4046 - val_loss: 0.1263 - val_mean_io_u: 0.3937\n",
            "Epoch 6/25\n",
            "38/38 [==============================] - 2s 42ms/step - loss: 0.1022 - mean_io_u: 0.4091 - val_loss: 0.1327 - val_mean_io_u: 0.3937\n",
            "Epoch 7/25\n",
            "38/38 [==============================] - 2s 42ms/step - loss: 0.0981 - mean_io_u: 0.4054 - val_loss: 0.1250 - val_mean_io_u: 0.3937\n",
            "Epoch 8/25\n",
            "38/38 [==============================] - 2s 42ms/step - loss: 0.1050 - mean_io_u: 0.3977 - val_loss: 0.1090 - val_mean_io_u: 0.3937\n",
            "Epoch 9/25\n",
            "38/38 [==============================] - 2s 42ms/step - loss: 0.0987 - mean_io_u: 0.3967 - val_loss: 0.1113 - val_mean_io_u: 0.3937\n",
            "Epoch 10/25\n",
            "38/38 [==============================] - 2s 42ms/step - loss: 0.0914 - mean_io_u: 0.3984 - val_loss: 0.1095 - val_mean_io_u: 0.3937\n",
            "Epoch 11/25\n",
            "38/38 [==============================] - 2s 42ms/step - loss: 0.0954 - mean_io_u: 0.3983 - val_loss: 0.1057 - val_mean_io_u: 0.3937\n",
            "Epoch 12/25\n",
            "38/38 [==============================] - 2s 42ms/step - loss: 0.0930 - mean_io_u: 0.3981 - val_loss: 0.1062 - val_mean_io_u: 0.3937\n",
            "Epoch 13/25\n",
            "38/38 [==============================] - 2s 42ms/step - loss: 0.0918 - mean_io_u: 0.4050 - val_loss: 0.0930 - val_mean_io_u: 0.3937\n",
            "Epoch 14/25\n",
            "38/38 [==============================] - 2s 42ms/step - loss: 0.0869 - mean_io_u: 0.3996 - val_loss: 0.0966 - val_mean_io_u: 0.3937\n",
            "Epoch 15/25\n",
            "38/38 [==============================] - 2s 43ms/step - loss: 0.0904 - mean_io_u: 0.4002 - val_loss: 0.0933 - val_mean_io_u: 0.3937\n",
            "Epoch 16/25\n",
            "38/38 [==============================] - 2s 42ms/step - loss: 0.0849 - mean_io_u: 0.4019 - val_loss: 0.0888 - val_mean_io_u: 0.3937\n",
            "Epoch 17/25\n",
            "38/38 [==============================] - 2s 42ms/step - loss: 0.0785 - mean_io_u: 0.3984 - val_loss: 0.0921 - val_mean_io_u: 0.3937\n",
            "Epoch 18/25\n",
            "38/38 [==============================] - 2s 42ms/step - loss: 0.0808 - mean_io_u: 0.4017 - val_loss: 0.0907 - val_mean_io_u: 0.3937\n",
            "Epoch 19/25\n",
            "38/38 [==============================] - 2s 42ms/step - loss: 0.0861 - mean_io_u: 0.3962 - val_loss: 0.0988 - val_mean_io_u: 0.3937\n",
            "Epoch 20/25\n",
            "38/38 [==============================] - 2s 42ms/step - loss: 0.0768 - mean_io_u: 0.4044 - val_loss: 0.0881 - val_mean_io_u: 0.3937\n",
            "Epoch 21/25\n",
            "38/38 [==============================] - 2s 42ms/step - loss: 0.0742 - mean_io_u: 0.4009 - val_loss: 0.0894 - val_mean_io_u: 0.3937\n",
            "Epoch 22/25\n",
            "38/38 [==============================] - 2s 44ms/step - loss: 0.0791 - mean_io_u: 0.4056 - val_loss: 0.0956 - val_mean_io_u: 0.3937\n",
            "Epoch 23/25\n",
            "38/38 [==============================] - 2s 42ms/step - loss: 0.0836 - mean_io_u: 0.4017 - val_loss: 0.0862 - val_mean_io_u: 0.3937\n",
            "Epoch 24/25\n",
            "38/38 [==============================] - 2s 42ms/step - loss: 0.0749 - mean_io_u: 0.3988 - val_loss: 0.0873 - val_mean_io_u: 0.3937\n",
            "Epoch 25/25\n",
            "38/38 [==============================] - 2s 43ms/step - loss: 0.0740 - mean_io_u: 0.3999 - val_loss: 0.0921 - val_mean_io_u: 0.3937\n"
          ],
          "name": "stdout"
        }
      ]
    },
    {
      "cell_type": "code",
      "metadata": {
        "colab": {
          "base_uri": "https://localhost:8080/",
          "height": 299
        },
        "id": "NFg9nIf9jDwx",
        "outputId": "cb61ff8e-2703-4ec2-d4ad-2ef5da695d9e"
      },
      "source": [
        "loss = history.history['loss']\n",
        "val_loss = history.history['val_loss']\n",
        "\n",
        "epochs = range(len(loss))\n",
        "plt.figure()\n",
        "\n",
        "plt.plot(epochs,loss)\n",
        "plt.plot(epochs, val_loss)\n",
        "plt.title('Training and validation loss')"
      ],
      "execution_count": null,
      "outputs": [
        {
          "output_type": "execute_result",
          "data": {
            "text/plain": [
              "Text(0.5, 1.0, 'Training and validation loss')"
            ]
          },
          "metadata": {
            "tags": []
          },
          "execution_count": 47
        },
        {
          "output_type": "display_data",
          "data": {
            "image/png": "[encoded data removed]",
            "text/plain": [
              "<Figure size 432x288 with 1 Axes>"
            ]
          },
          "metadata": {
            "tags": []
          }
        }
      ]
    },
    {
      "cell_type": "markdown",
      "metadata": {
        "id": "lGvJw_zXtxt7"
      },
      "source": [
        "#7. Testing UNET"
      ]
    },
    {
      "cell_type": "code",
      "metadata": {
        "id": "spTxoBVMt8Gk",
        "colab": {
          "base_uri": "https://localhost:8080/"
        },
        "outputId": "03304c24-83ac-45f3-954b-d566a99322cc"
      },
      "source": [
        "X_test.shape"
      ],
      "execution_count": null,
      "outputs": [
        {
          "output_type": "execute_result",
          "data": {
            "text/plain": [
              "(65, 128, 128, 3)"
            ]
          },
          "metadata": {
            "tags": []
          },
          "execution_count": 48
        }
      ]
    },
    {
      "cell_type": "code",
      "metadata": {
        "colab": {
          "base_uri": "https://localhost:8080/"
        },
        "id": "Y0dj-6pXrJGW",
        "outputId": "6f593255-2c59-4a99-e540-143dd4b62f48"
      },
      "source": [
        "y_hat = model.predict(X_test, verbose = 1)"
      ],
      "execution_count": null,
      "outputs": [
        {
          "output_type": "stream",
          "text": [
            "3/3 [==============================] - 2s 148ms/step\n"
          ],
          "name": "stdout"
        }
      ]
    },
    {
      "cell_type": "code",
      "metadata": {
        "colab": {
          "base_uri": "https://localhost:8080/"
        },
        "id": "_WerjcTdmr2p",
        "outputId": "c811542e-454b-4798-a6fd-f27739903bbc"
      },
      "source": [
        "#visualizing predictions\n",
        "y_hat.shape"
      ],
      "execution_count": null,
      "outputs": [
        {
          "output_type": "execute_result",
          "data": {
            "text/plain": [
              "(65, 128, 128, 1)"
            ]
          },
          "metadata": {
            "tags": []
          },
          "execution_count": 50
        }
      ]
    },
    {
      "cell_type": "code",
      "metadata": {
        "colab": {
          "base_uri": "https://localhost:8080/",
          "height": 595
        },
        "id": "aAS2qyUHmwrs",
        "outputId": "ea000cc5-b7ff-4770-c306-f3afac3cafd9"
      },
      "source": [
        "id = np.random.randint(0,len(X_test)-1) #39,4\n",
        "print(X_test[id].shape)\n",
        "imshow(X_test[id])\n",
        "plt.show()\n",
        "imshow(y_hat[id][:,:,0])\n",
        "plt.show()"
      ],
      "execution_count": null,
      "outputs": [
        {
          "output_type": "stream",
          "text": [
            "(128, 128, 3)\n"
          ],
          "name": "stdout"
        },
        {
          "output_type": "display_data",
          "data": {
            "image/png": "[encoded data removed]",
            "text/plain": [
              "<Figure size 432x288 with 1 Axes>"
            ]
          },
          "metadata": {
            "tags": []
          }
        },
        {
          "output_type": "display_data",
          "data": {
            "image/png": "[encoded data removed]",
            "text/plain": [
              "<Figure size 432x288 with 1 Axes>"
            ]
          },
          "metadata": {
            "tags": []
          }
        }
      ]
    },
    {
      "cell_type": "markdown",
      "metadata": {
        "id": "aGJK04r2yi3I"
      },
      "source": [
        "# END"
      ]
    }
  ]
}